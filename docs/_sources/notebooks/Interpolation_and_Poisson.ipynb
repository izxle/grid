{
 "cells": [
  {
   "cell_type": "markdown",
   "source": [
    "### Interpolation and Solving Poisson's Equation\n",
    "\n",
    "#### Interpolation\n",
    "It is known based on the properties of the real spherical harmonics $Y_{lm}$ that any $L_2$ function $f : \\mathbb{R}^3 \\rightarrow \\mathbb{R}$ can be decomposed as\n",
    "\n",
    "$$\n",
    "    f(r, \\theta, \\phi) = \\sum_{l=0}^\\infty \\sum_{m=-l}^l w_{lm}(r) Y_{lm}(\\theta, \\phi),\n",
    "$$\n",
    "\n",
    "where the unknown $w_{lm}$ is a function of the radial component and is found as follows. For a fixed $r$, the radial component $w_{lm}$ is computed as the integral\n",
    "$$\n",
    "w_{lm}(r) = \\int \\int f(r, \\theta, \\phi) Y_{lm}(\\theta, \\phi) \\sin(\\theta) d\\theta d\\phi\n",
    "$$\n",
    "over various values of $r$ and then interpolated $\\tilde{w}_{lm}$ using a cubic spline. This integral can be done using the [angular grid](../pyapi/grid.lebedev.rst) module. The interpolation of $f$ is simply then\n",
    "$$\n",
    "    f(r, \\theta, \\phi) \\approx \\sum_{l=0}^{L_{max}} \\sum_{m=-l}^l \\tilde{w}_{lm}(r) Y_{lm}(\\theta, \\phi),\n",
    "$$\n",
    "\n",
    "where $L_{max}$ is the maximum chosen degree $l$ of the real spherical harmonics.\n",
    "\n",
    "This example tries to interpolate the unit-charge distribution given by $f(r, \\theta, \\phi) = \\bigg( \\frac{\\alpha}{\\pi} \\bigg)^{1.5} e^{-\\alpha r_A^2}$, where $\\alpha = 0.25$ and $r_A$ is the radius centered at the coordinate $[0, 1, 0]$.  Since, this function does not depend on the angles, then $w_{lm} = 0$ when $l > 0$."
   ],
   "metadata": {
    "collapsed": false
   }
  },
  {
   "cell_type": "code",
   "execution_count": 1,
   "metadata": {
    "collapsed": true
   },
   "outputs": [],
   "source": [
    "import numpy as np\n",
    "\n",
    "center = [0, 1, 0]\n",
    "\n",
    "def charge_distribution(x, alpha=0.25):\n",
    "    r = np.linalg.norm(x - center, axis=1)\n",
    "    return (alpha / np.pi) ** (3.0 / 2.0) * np.exp(-alpha * r**2.0)"
   ]
  },
  {
   "cell_type": "code",
   "execution_count": 2,
   "outputs": [],
   "source": [
    "# Construct Atomic Grid\n",
    "from grid.onedgrid import UniformInteger\n",
    "from grid.rtransform import ExpRTransform\n",
    "from grid.atomgrid import AtomGrid\n",
    "\n",
    "oned = UniformInteger(npoints=100)\n",
    "btf = ExpRTransform(rmin=1e-4, rmax=1.5)\n",
    "radial = btf.transform_1d_grid(oned)\n",
    "degree = 10\n",
    "atgrid = AtomGrid.from_pruned(radial, 1, sectors_r=[], sectors_degree=[degree], center=center)"
   ],
   "metadata": {
    "collapsed": false
   }
  },
  {
   "cell_type": "code",
   "execution_count": 4,
   "outputs": [
    {
     "name": "stdout",
     "output_type": "stream",
     "text": [
      "Error difference between interpolation and true:\n",
      "[4.11721435e-10 4.89748683e-10 2.50742215e-10 3.83401616e-10\n",
      " 4.63309946e-14 2.34473004e-10 4.25210700e-11 4.73712781e-10\n",
      " 5.40653390e-11 9.58283106e-12 4.89972958e-11 6.66237898e-14\n",
      " 2.60595436e-09 6.48782625e-11 1.20643079e-13 2.26664885e-10\n",
      " 1.58356033e-10 5.98270603e-10 2.10105725e-09 4.38614613e-10]\n"
     ]
    }
   ],
   "source": [
    "# Construct the interpolation of the charge distribution.\n",
    "density = charge_distribution(atgrid.points)   # evaluate the charge distribution on the atomic grid points.\n",
    "interpolate_func = atgrid.interpolate(density)\n",
    "\n",
    "# Compute the density form the interpolation on random points\n",
    "random_pts = np.vstack(\n",
    "    (\n",
    "        np.random.uniform(-1., 1.0, size=20),\n",
    "        np.random.uniform(0.5, 1.5, size=20),\n",
    "        np.random.uniform(-1.0, 1.0, size=20)\n",
    "    )\n",
    ").T\n",
    "interpolate = interpolate_func(random_pts)\n",
    "true = charge_distribution(random_pts)\n",
    "\n",
    "print(\"Error difference between interpolation and true:\")\n",
    "print(np.abs(interpolate - true))\n",
    "assert np.all(np.abs(interpolate - true) < 1e-6)\n",
    "\n",
    "\n",
    "# First derivative wrt to Cartesian coordinates (x, y, z) can also be calculated\n",
    "derivative = interpolate_func(random_pts, deriv=1)\n",
    "# First derivative wrt to Spherical coordinates (r, \\theta, \\phi)\n",
    "derivative = interpolate_func(random_pts, deriv=1, deriv_spherical=True)\n",
    "# Higher order derivative wrt to r can be calculated\n",
    "sec_deriv = interpolate_func(random_pts, deriv=2, only_radial_derivs=True)"
   ],
   "metadata": {
    "collapsed": false
   }
  },
  {
   "cell_type": "markdown",
   "source": [
    "#### Solving Poisson Equation\n",
    "\n",
    "The Poisson equation is defined as $\\nabla^2 V = - 4\\pi f(\\vec{\\textbf{r}})$, where $V$ is the unknown potential, $\\nabla^2$ is the Laplacian and $f$ is the charge distribution.\n",
<<<<<<< HEAD
    "It is well-known that the solution to this is given by $V(\\vec{\\textbf{r}}) = \\int \\frac{f(\\vec{\\textbf{r}}^\\prime)}{|\\vec{\\textbf{r}} - \\vec{\\textbf{r}}^\\prime| } d\\vec{\\textbf{r}}^\\prime$.  For the unit-charge distribution given above, the solution is given by $V(r, \\theta, \\phi) = \\text{erf} \\bigg[ \\frac{\\sqrt{\\alpha} r_A}{r_A} \\bigg],$ where ERF is the error function. Grid offers two methods of solving the Poisson equation over an atomic grid.  The recommended method is the `solve_poisson_bvp` and is used in this example."
=======
    "It is well-known that the solution to this is given by $V(\\vec{\\textbf{r}}) = \\int \\frac{f(\\vec{\\textbf{r}}^\\prime)}{|\\vec{\\textbf{r}} - \\vec{\\textbf{r}}^\\prime| } d\\vec{\\textbf{r}}^\\prime$.  For the unit-charge distribution given above, the solution is given by $V(r, \\theta, \\phi) = ERF \\bigg[ \\frac{\\sqrt{\\alpha} r_A}{r_A} \\bigg],$ where ERF is the error function. Grid offers two methods of solving the Poisson equation over an atomic grid.  The recommended method is the `solve_poisson_bvp` and is used in this example."
>>>>>>> 32d8e9f8cd2fea5028d677bd401d7ca7dbc35a4d
   ],
   "metadata": {
    "collapsed": false
   }
  },
  {
   "cell_type": "code",
   "execution_count": null,
   "outputs": [],
   "source": [
    "from grid.poisson import solve_poisson_bvp, solve_poisson_ivp\n",
    "\n",
    "remove_large_pts = 1e6\n",
    "\n",
    "potential = solve_poisson_bvp(\n",
    "        atgrid,\n",
    "        charge_distribution(atgrid.points),\n",
    "        InverseRTransform(tf),\n",
    "        remove_large_pts=remove_large_pts,\n",
    ")\n",
    "\n",
    "\n",
    "#Set up of the radial grid\n",
    "oned_grid = Trapezoidal(10000)\n",
    "tf = LinearFiniteRTransform(0.0, 1000)\n",
    "radial_grid = tf.transform_1d_grid(oned)\n",
    "# Set up the atomic grid with degree 10 at each radial point.\n",
    "atomic_grid = AtomGrid(radial_grid, degrees=[10])\n",
    "#Set the charge distribution to be unit-charge density and evaluate on atomic grid points.\n",
    "def charge_distribution(x, alpha=0.1):\n",
    "   r = np.linalg.norm(x, axis=1)\n",
    "   return (alpha / np.pi)**(3.0 / 2.0) * np.exp(-alpha * r**2.0)\n",
    "func_vals = charge_distribution(atomic_grid.points)\n",
    "# Solve for the potential as an initial value problem and evaluate it over the atomic grid.\n",
    "potential = solve_poisson_ivp(\n",
    "     atgrid, func_vals, InverseRTransform(tf), r_interval=(1000, 1e-3),\n",
    "     ode_params={\"method\" : \"DOP853\", \"atol\": 1e-8},\n",
    ")\n",
    "potential_values = potential(atgrid.points)"
   ],
   "metadata": {
    "collapsed": false
   }
  }
 ],
 "metadata": {
  "kernelspec": {
   "display_name": "Python 3",
   "language": "python",
   "name": "python3"
  },
  "language_info": {
   "codemirror_mode": {
    "name": "ipython",
    "version": 2
   },
   "file_extension": ".py",
   "mimetype": "text/x-python",
   "name": "python",
   "nbconvert_exporter": "python",
   "pygments_lexer": "ipython2",
   "version": "2.7.6"
  }
 },
 "nbformat": 4,
 "nbformat_minor": 0
}
