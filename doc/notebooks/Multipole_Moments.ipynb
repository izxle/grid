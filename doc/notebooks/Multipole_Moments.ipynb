{
 "cells": [
  {
   "cell_type": "markdown",
   "source": [
    "#### Multipole Moments\n",
    "\n",
    "Grid can compute various multipole moments of different types:\n",
    "$$\n",
    "\\begin{align*}\n",
    "    m_{n_x, n_y, n_z} &= \\int (x - X_c)^{n_x} (y - Y_c)^{n_y} (z - Z_c)^{n_z} f(r) dr \\qquad \\qquad &\\text{Cartesian moments}\\\\\n",
    "    m_{lm} &= \\int | \\textbf{r} - \\textbf{R}_c|^l S_{l}^m(\\theta, \\phi) f(\\textbf{r}) d\\textbf{r} \\qquad \\qquad &\\text{spherical moments} \\\\\n",
    "    m_n &= \\int | \\textbf{r} - \\textbf{R}_c|^{n} f(\\textbf{r}) d\\textbf{r} \\qquad \\qquad &\\text{radial moments}\\\\\n",
    "    m_{nlm} &= \\int | \\textbf{r} - \\textbf{R}_c|^{n+1} S_l^m(\\theta, \\phi) f(\\textbf{r}) d\\textbf{r} \\qquad \\qquad &\\text{radial with spherical moments}\n",
    "\\end{align*}\n",
    "$$\n",
    "for some function $f : \\mathbb{R}^3\\rightarrow \\mathbb{R}$, where $S_l^m$ is the regular, real solid harmonics, $(n_x, n_y, n_z)$ are the Cartesian orders over some center $(X_c, Y_c, Z_c)$ and $(l, m)$ are the angular order and degree.\n",
    "\n",
<<<<<<< HEAD
    "The moment function in grid can compute all multipole moments leading up to a specified order. In addition, it can take various centers to compute over.\n",
    "\n",
    "\n",
    "Suppose we have a electron density of a molecular $\\rho(\\textbf{r}})$.  The electric dipole moment $\\textbf{p}$ is defined to be a vector corresponding to Cartesian moment whose orders $(n_x, n_y, n_z)$ sum  up to one, i.e. $\\textbf{p} = (m_{1, 0, 0}, m_{0, 1, 0}, m_{0, 0, 1})$.  The magnitude of this is the dipole moment $\\mu$ of the electron density\n",
    "\n",
    "$$\\mu = \\big| \\big|\\textbf{p} \\big| \\big| = \\sqrt{m_{1, 0, 0}^2 +  m_{0, 1, 0}^2 + m_{0, 0, 1}^2}.$$"
=======
    "The moment function in grid can compute all multipole moments leading up to a specified order. In addition, it can take various centers to compute over."
>>>>>>> 32d8e9f8cd2fea5028d677bd401d7ca7dbc35a4d
   ],
   "metadata": {
    "collapsed": false
   }
  },
  {
   "cell_type": "code",
   "execution_count": null,
   "metadata": {
    "collapsed": true
   },
   "outputs": [],
   "source": []
  }
 ],
 "metadata": {
  "kernelspec": {
   "display_name": "Python 3",
   "language": "python",
   "name": "python3"
  },
  "language_info": {
   "codemirror_mode": {
    "name": "ipython",
    "version": 2
   },
   "file_extension": ".py",
   "mimetype": "text/x-python",
   "name": "python",
   "nbconvert_exporter": "python",
   "pygments_lexer": "ipython2",
   "version": "2.7.6"
  }
 },
 "nbformat": 4,
 "nbformat_minor": 0
}
