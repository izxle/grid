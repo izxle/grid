{
 "cells": [
  {
   "cell_type": "markdown",
   "source": [
    "## Multipole Moments (In Progress)\n",
    "\n",
    "Every grid class has the ability to compute the multipole moment integral of a function over cente\n",
    "Grid can compute various multipole moments of different types:\n",
    "$$\n",
    "\\begin{align*}\n",
    "    m_{n_x, n_y, n_z} &= \\int (x - X_c)^{n_x} (y - Y_c)^{n_y} (z - Z_c)^{n_z} f(r) dr \\qquad \\qquad &\\text{Cartesian moments}\\\\\n",
    "    m_{lm} &= \\int | \\textbf{r} - \\textbf{R}_c|^l S_{l}^m(\\theta, \\phi) f(\\textbf{r}) d\\textbf{r} \\qquad \\qquad &\\text{spherical moments} \\\\\n",
    "    m_n &= \\int | \\textbf{r} - \\textbf{R}_c|^{n} f(\\textbf{r}) d\\textbf{r} \\qquad \\qquad &\\text{radial moments}\\\\\n",
    "    m_{nlm} &= \\int | \\textbf{r} - \\textbf{R}_c|^{n+1} S_l^m(\\theta, \\phi) f(\\textbf{r}) d\\textbf{r} \\qquad \\qquad &\\text{radial with spherical moments}\n",
    "\\end{align*}\n",
    "$$\n",
    "for some function $f : \\mathbb{R}^3\\rightarrow \\mathbb{R}$, where $S_l^m$ is the regular, real solid harmonics, $(n_x, n_y, n_z)$ are the Cartesian orders over some center $(X_c, Y_c, Z_c)$ and $(l, m)$ are the angular order and degree.\n",
    "\n",
    "\n",
    "This example illustrates how to compute the dipole moment of Formaldehyde.\n",
    "\n"
   ],
   "metadata": {
    "collapsed": false
   }
  },
  {
   "cell_type": "markdown",
   "source": [
    "IOData is used to first read the wavefunction information of Formaldehyde."
   ],
   "metadata": {
    "collapsed": false
   }
  },
  {
   "cell_type": "code",
   "execution_count": 36,
   "metadata": {
    "collapsed": true,
    "ExecuteTime": {
     "end_time": "2023-05-17T18:37:54.313563780Z",
     "start_time": "2023-05-17T18:37:54.270541396Z"
    }
   },
   "outputs": [
    {
     "name": "stdout",
     "output_type": "stream",
     "text": [
      "Dipole Moments  {(1, 'c'): array([-9.39793529e-01,  2.44832724e-08, -2.02253053e-07])}\n"
     ]
    }
   ],
   "source": [
    "from iodata import load_one\n",
    "\n",
    "mol = load_one(\"./ch2o_q+0.fchk\")\n",
    "\n",
    "print(\"Dipole Moments \", mol.moments)"
   ]
  },
  {
   "cell_type": "markdown",
   "source": [
    "In order to compute the moment integral, a molecular grid class is constructed."
   ],
   "metadata": {
    "collapsed": false
   }
  },
  {
   "cell_type": "code",
   "execution_count": 37,
   "outputs": [],
   "source": [
    "from grid.becke import BeckeWeights\n",
    "from grid.molgrid import MolGrid\n",
    "from grid.onedgrid import GaussLegendre\n",
    "from grid.rtransform import BeckeRTransform\n",
    "\n",
    "# Construct a radial grid\n",
    "oned_grid = GaussLegendre(npoints=50)\n",
    "radial_grid = BeckeRTransform(0.0, R=1.5).transform_1d_grid(oned_grid)  #BeckeRTransform(0.0, R=2.0).transform_1d_grid(oned_grid)\n",
    "\n",
    "# Construct Molecular grid with angular degree of 50 for each atom.\n",
    "mol_grid = MolGrid.from_size(\n",
    "    atnums=mol.atnums,          # The atomic numbers of Formaldehyde\n",
    "    atcoords=mol.atcoords,      # The atomic coordinates of Formaldehyde\n",
    "    rgrid=radial_grid,          # Radial grid used to construct atomic grids over each carbon, and hydrogen.\n",
    "    size=50,                    # The angular degree of the atomic grid over each carbon, and hydrogen.\n",
    "    aim_weights=BeckeWeights(), # Atom-in molecular weights: Becke weights\n",
    ")"
   ],
   "metadata": {
    "collapsed": false,
    "ExecuteTime": {
     "end_time": "2023-05-17T18:37:55.941572260Z",
     "start_time": "2023-05-17T18:37:55.844346509Z"
    }
   }
  },
  {
   "cell_type": "markdown",
   "source": [],
   "metadata": {
    "collapsed": false
   }
  },
  {
   "cell_type": "markdown",
   "source": [
    "The moment integrals can be calculated."
   ],
   "metadata": {
    "collapsed": false
   }
  },
  {
   "cell_type": "code",
   "execution_count": 55,
   "outputs": [
    {
     "name": "stdout",
     "output_type": "stream",
     "text": [
      "[-0.00395472]\n",
      "[ 1.60950630e+01  3.45000845e-06 -1.31242995e-06]\n",
      "[ 1.60911083e+01 -3.95126670e-03 -3.95602914e-03]\n"
     ]
    }
   ],
   "source": [
    "import numpy as np\n",
    "from gbasis.wrappers import from_iodata\n",
    "from gbasis.evals.density import evaluate_density\n",
    "\n",
    "# Construct molecular basis from wave-function information read by IOData\n",
    "basis, type = from_iodata(mol)\n",
    "\n",
    "# Compute the electron density\n",
    "rdm = mol.one_rdms[\"scf\"]\n",
    "electron_density = evaluate_density(rdm, basis, mol_grid.points, coord_type=type)\n",
    "\n",
    "\n",
    "center_atom = np.array([np.sum(mol.atcoords, axis=0) / len(mol.atcoords)])\n",
    "a = mol_grid.moments(\n",
    "    3, np.array([[0.0, 0.0, 0.0]]), electron_density, type_mom=\"cartesian\", return_orders=True\n",
    ")\n",
    "print(a[0][-6])\n",
    "print(np.sum(mol.atnums[:, np.newaxis] * mol.atcoords, axis=0))\n",
    "print(a[0][-6] + np.sum(mol.atnums[:, np.newaxis] * mol.atcoords, axis=0))\n",
    "# (2, 'c'): array([ 1.24344979e-14, -4.79884555e-15,  4.53864177e-15, -1.77635684e-15, 3.25806694e-15, -5.32907052e-15])}\n",
    "# Dipole Moments  {(1, 'c'): array([-9.39793529e-01,  2.44832724e-08, -2.02253053e-07])}"
   ],
   "metadata": {
    "collapsed": false,
    "ExecuteTime": {
     "end_time": "2023-05-17T18:42:45.066584136Z",
     "start_time": "2023-05-17T18:42:44.418868819Z"
    }
   }
  }
 ],
 "metadata": {
  "kernelspec": {
   "display_name": "Python 3",
   "language": "python",
   "name": "python3"
  },
  "language_info": {
   "codemirror_mode": {
    "name": "ipython",
    "version": 2
   },
   "file_extension": ".py",
   "mimetype": "text/x-python",
   "name": "python",
   "nbconvert_exporter": "python",
   "pygments_lexer": "ipython2",
   "version": "2.7.6"
  }
 },
 "nbformat": 4,
 "nbformat_minor": 0
}
